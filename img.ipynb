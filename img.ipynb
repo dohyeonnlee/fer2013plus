{
 "cells": [
  {
   "cell_type": "markdown",
   "metadata": {},
   "source": [
    "이미지 관련 코드"
   ]
  },
  {
   "cell_type": "code",
   "execution_count": 3,
   "metadata": {},
   "outputs": [
    {
     "name": "stdout",
     "output_type": "stream",
     "text": [
      "Collecting opencv-python\n",
      "  Using cached opencv_python-4.9.0.80-cp37-abi3-macosx_11_0_arm64.whl.metadata (20 kB)\n",
      "Requirement already satisfied: numpy>=1.21.2 in ./.venv/lib/python3.11/site-packages (from opencv-python) (1.26.4)\n",
      "Using cached opencv_python-4.9.0.80-cp37-abi3-macosx_11_0_arm64.whl (35.4 MB)\n",
      "Installing collected packages: opencv-python\n",
      "Successfully installed opencv-python-4.9.0.80\n"
     ]
    }
   ],
   "source": [
    "!pip install opencv-python"
   ]
  },
  {
   "cell_type": "code",
   "execution_count": 15,
   "metadata": {},
   "outputs": [],
   "source": [
    "import os\n",
    "import cv2\n",
    "import numpy as np\n",
    "import random\n",
    "import math"
   ]
  },
  {
   "cell_type": "code",
   "execution_count": 10,
   "metadata": {},
   "outputs": [],
   "source": [
    "import cv2\n",
    "import random\n",
    "import math"
   ]
  },
  {
   "cell_type": "code",
   "execution_count": 67,
   "metadata": {},
   "outputs": [
    {
     "name": "stdout",
     "output_type": "stream",
     "text": [
      "이미지 증강 및 저장 완료\n"
     ]
    }
   ],
   "source": [
    "import os\n",
    "import cv2\n",
    "\n",
    "# 원본 이미지가 있는 디렉토리\n",
    "input_dir = \"/Users/joseohyeon/Downloads/big6/data/FER2013Valid\"\n",
    "\n",
    "# 이미지를 저장할 디렉토리\n",
    "output_dir = \"/Users/joseohyeon/Downloads/big6/data1/FER2013Valid\"\n",
    "\n",
    "# 저장할 디렉토리가 없으면 생성\n",
    "if not os.path.exists(output_dir):\n",
    "    os.makedirs(output_dir)\n",
    "\n",
    "# 디렉토리 내의 모든 이미지 파일에 대해 반복\n",
    "for filename in os.listdir(input_dir):\n",
    "    if filename.endswith(\".jpg\") or filename.endswith(\".png\"):  # 이미지 파일만 처리\n",
    "        # 이미지를 읽어옴\n",
    "        img_path = os.path.join(input_dir, filename)\n",
    "        img = cv2.imread(img_path)\n",
    "        \n",
    "        # 이미지 반전\n",
    "        flip_img = cv2.flip(img, 1)\n",
    "\n",
    "        # 랜덤한 각도로 회전 (0도는 제외)\n",
    "        angle = random.choice([-20, -19, -18, -17, -16, 16, 17, 18, 19, 20])  # -20에서 -15 또는 15에서 20 중에서 선택\n",
    "        if angle != 0:\n",
    "            # 회전한 이미지의 외접 사각형 좌표 계산\n",
    "            radians = math.radians(abs(angle))\n",
    "            cos_theta = math.cos(radians)\n",
    "            sin_theta = math.sin(radians)   \n",
    "\n",
    "            rows, cols, _ = img.shape\n",
    "\n",
    "            new_width = int((cols * cos_theta) + (rows * sin_theta))\n",
    "            new_height = int((cols * sin_theta) + (rows * cos_theta))\n",
    "\n",
    "            M = cv2.getRotationMatrix2D((cols / 2, rows / 2), angle, 1)\n",
    "            rotate_img = cv2.warpAffine(img, M, (new_width, new_height))\n",
    "            \n",
    "            # 회전된 이미지를 내부에 있는 영역을 기준으로 확대\n",
    "            enlarged_img = cv2.resize(rotate_img, (new_width, new_height))\n",
    "            \n",
    "            # 확대된 이미지에서 48x48 크기로 잘라냄\n",
    "            cropped_img = enlarged_img[int(max(new_width, new_height)/2) - 24:int(max(new_width, new_height)/2)+12, int(max(new_width, new_height)/2)-24:int(max(new_width, new_height)/2)+12]\n",
    "    \n",
    "            # 확대된 이미지를 저장\n",
    "            enlarged_output_path = os.path.join(output_dir, f\"r_{filename}\")\n",
    "            cv2.imwrite(enlarged_output_path, cropped_img)\n",
    "    \n",
    "        # 반전된 이미지를 저장\n",
    "        output_path = os.path.join(output_dir, f\"f_{filename}\")\n",
    "        cv2.imwrite(output_path, flip_img)\n",
    "print(\"이미지 증강 및 저장 완료\")\n"
   ]
  },
  {
   "cell_type": "code",
   "execution_count": 36,
   "metadata": {},
   "outputs": [
    {
     "name": "stdout",
     "output_type": "stream",
     "text": [
      "CSV 파일 복사 및 추가 완료\n"
     ]
    }
   ],
   "source": [
    "import pandas as pd\n",
    "\n",
    "# 기존 CSV 파일 경로\n",
    "csv_file_path = './fer2013new.csv'\n",
    "\n",
    "# 중간 CSV\n",
    "middle_file_path = './fer2013new_.csv'\n",
    "\n",
    "# 새로운 CSV 파일 경로\n",
    "new_csv_file_path = './fer2013new__.csv'\n",
    "\n",
    "# CSV 파일을 읽어옴\n",
    "df = pd.read_csv(csv_file_path)\n",
    "mdf = pd.read_csv(middle_file_path)\n",
    "\n",
    "# 새로운 데이터를 담을 빈 DataFrame 생성\n",
    "new_df = pd.DataFrame(columns=df.columns)\n",
    "\n",
    "# 기존 데이터프레임을 복사하여 r_를 추가한 새로운 행을 생성하여 새로운 데이터프레임에 추가\n",
    "for index, row in df.iterrows():\n",
    "    if not pd.isnull(row['Image name']):  # 'Image name' 열이 NaN이 아닌 경우에만 처리\n",
    "        new_row = row.copy()\n",
    "        # new_row['Image name'] = 'r_' + new_row['Image name']\n",
    "        new_row['Image name'] = 'f_' + new_row['Image name']\n",
    "        new_df = pd.concat([new_df, new_row.to_frame().transpose()], ignore_index=True)\n",
    "\n",
    "# 기존 데이터프레임과 새로운 데이터프레임을 합쳐서 새로운 CSV 파일로 저장\n",
    "final_df = pd.concat([mdf, new_df])\n",
    "final_df.to_csv(new_csv_file_path, index=False)\n",
    "\n",
    "print(\"CSV 파일 복사 및 추가 완료\")\n"
   ]
  },
  {
   "cell_type": "code",
   "execution_count": null,
   "metadata": {},
   "outputs": [],
   "source": [
    "import torch\n",
    "import torch.nn as nn\n",
    "import torch.nn.functional as F\n",
    "import torch.optim as optim\n",
    "from torchvision import transforms, models\n",
    "from torch.utils.data import Dataset, DataLoader\n",
    "import matplotlib.pyplot as plt\n",
    "\n",
    "import os\n",
    "import pandas as pd\n",
    "from PIL import Image"
   ]
  },
  {
   "cell_type": "code",
   "execution_count": null,
   "metadata": {},
   "outputs": [],
   "source": [
    "# csv img로 변환\n",
    "!python generate_training_data.py -d ./data -fer C:/Users/USER/Desktop/big6/fer2013.csv -ferplus C:/Users/USER/Desktop/big6/fer2013new.csv"
   ]
  }
 ],
 "metadata": {
  "kernelspec": {
   "display_name": ".venv",
   "language": "python",
   "name": "python3"
  },
  "language_info": {
   "codemirror_mode": {
    "name": "ipython",
    "version": 3
   },
   "file_extension": ".py",
   "mimetype": "text/x-python",
   "name": "python",
   "nbconvert_exporter": "python",
   "pygments_lexer": "ipython3",
   "version": "3.11.4"
  }
 },
 "nbformat": 4,
 "nbformat_minor": 2
}
