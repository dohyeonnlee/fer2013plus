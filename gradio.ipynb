{
 "cells": [
  {
   "cell_type": "code",
   "execution_count": 5,
   "metadata": {},
   "outputs": [
    {
     "name": "stdout",
     "output_type": "stream",
     "text": [
      "python version : 3.11.9 (tags/v3.11.9:de54cf5, Apr  2 2024, 10:12:12) [MSC v.1938 64 bit (AMD64)]\n",
      "gradio version : 4.25.0\n",
      "torch version : 2.2.1+cu121\n",
      "torchvision version : 0.17.1+cu121\n"
     ]
    }
   ],
   "source": [
    "import warnings\n",
    "warnings.filterwarnings('ignore')\n",
    "\n",
    "from model import myVGG19\n",
    "import gradio as gr\n",
    "import torch\n",
    "from torchvision import transforms\n",
    "\n",
    "import sys\n",
    "import torchvision\n",
    "print(\"python version :\", sys.version)\n",
    "print(\"gradio version :\", gr.__version__)\n",
    "print(\"torch version :\", torch.__version__)\n",
    "print(\"torchvision version :\", torchvision.__version__)"
   ]
  },
  {
   "cell_type": "code",
   "execution_count": 6,
   "metadata": {},
   "outputs": [],
   "source": [
    "def get_test_image(img):\n",
    "    # 사진 전처리를 위한 변환 정의\n",
    "    transform = transforms.Compose([\n",
    "        transforms.Resize((48, 48)),  # 예제에서 사용하는 모델 입력 크기에 맞춰 조정\n",
    "        transforms.Grayscale(num_output_channels=1),\n",
    "        transforms.ToTensor(),\n",
    "        transforms.Normalize(mean=[0.5076], std=[0.2120]),\n",
    "    ])\n",
    "\n",
    "    # 사진 불러오기 및 전처리\n",
    "    img_transformed = transform(img)\n",
    "    img_transformed = img_transformed.unsqueeze(0)  # 모델에 입력하기 위해 배치 차원 추가\n",
    "\n",
    "    return img_transformed\n",
    "\n",
    "\n",
    "# Gradio 인터페이스에서 사용할 함수 정의\n",
    "def predict_emotion(img):\n",
    "    # test image 처리\n",
    "    img_transformed = get_test_image(img)\n",
    "    model = torch.load('./vgg19_model.pt')  # 모델 변경 시 수정!!!!!! 해당 모델 class import도 새로 해야 됨\n",
    "\n",
    "    # 모델을 평가 모드로 설정하고 사진 분류\n",
    "    model.eval()\n",
    "    with torch.no_grad():\n",
    "        output = model(img_transformed.to('cuda' if torch.cuda.is_available() else 'cpu'))\n",
    "        _, predicted = torch.max(output, 1)\n",
    "\n",
    "    # 감정 레이블 정의 (컬럼 순서에 따라)\n",
    "    emotion_labels = ['neutral', 'happiness', 'surprise', 'sadness', 'anger', 'disgust', 'fear', 'contempt', 'unknown', 'NF']\n",
    "\n",
    "    # 예측된 클래스 인덱스\n",
    "    predicted_class_index = predicted.item()\n",
    "\n",
    "    # 예측된 감정 레이블\n",
    "    predicted_label = emotion_labels[predicted_class_index]\n",
    "\n",
    "    return predicted_label"
   ]
  },
  {
   "cell_type": "code",
   "execution_count": 7,
   "metadata": {},
   "outputs": [
    {
     "name": "stdout",
     "output_type": "stream",
     "text": [
      "Running on local URL:  http://127.0.0.1:7863\n",
      "\n",
      "To create a public link, set `share=True` in `launch()`.\n"
     ]
    },
    {
     "data": {
      "text/html": [
       "<div><iframe src=\"http://127.0.0.1:7863/\" width=\"100%\" height=\"500\" allow=\"autoplay; camera; microphone; clipboard-read; clipboard-write;\" frameborder=\"0\" allowfullscreen></iframe></div>"
      ],
      "text/plain": [
       "<IPython.core.display.HTML object>"
      ]
     },
     "metadata": {},
     "output_type": "display_data"
    },
    {
     "data": {
      "text/plain": []
     },
     "execution_count": 7,
     "metadata": {},
     "output_type": "execute_result"
    }
   ],
   "source": [
    "gr.Interface(fn=predict_emotion,\n",
    "             inputs=gr.Image(type=\"pil\"),\n",
    "             outputs=gr.Label(num_top_classes=10),\n",
    "             theme=\"HaleyCH/HaleyCH_Theme\").launch()"
   ]
  }
 ],
 "metadata": {
  "kernelspec": {
   "display_name": "3.11",
   "language": "python",
   "name": "python3"
  },
  "language_info": {
   "codemirror_mode": {
    "name": "ipython",
    "version": 3
   },
   "file_extension": ".py",
   "mimetype": "text/x-python",
   "name": "python",
   "nbconvert_exporter": "python",
   "pygments_lexer": "ipython3",
   "version": "3.11.9"
  }
 },
 "nbformat": 4,
 "nbformat_minor": 2
}
